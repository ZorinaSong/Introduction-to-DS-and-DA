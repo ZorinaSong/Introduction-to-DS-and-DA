{
 "cells": [
  {
   "cell_type": "code",
   "execution_count": 1,
   "id": "d3a4e810",
   "metadata": {},
   "outputs": [],
   "source": [
    "import pandas as pd\n",
    "import numpy as np\n",
    "import matplotlib.pyplot as plt\n",
    "import scipy.stats as stats\n",
    "import random"
   ]
  },
  {
   "cell_type": "code",
   "execution_count": 2,
   "id": "cff90311",
   "metadata": {},
   "outputs": [
    {
     "name": "stderr",
     "output_type": "stream",
     "text": [
      "/var/folders/43/nrds9n3n523d8m2b4m6bh0480000gn/T/ipykernel_34425/2164211453.py:1: DtypeWarning: Columns (285) have mixed types. Specify dtype option on import or set low_memory=False.\n",
      "  clean = pd.read_csv('clean_kaggle_data.csv')\n"
     ]
    },
    {
     "data": {
      "text/html": [
       "<div>\n",
       "<style scoped>\n",
       "    .dataframe tbody tr th:only-of-type {\n",
       "        vertical-align: middle;\n",
       "    }\n",
       "\n",
       "    .dataframe tbody tr th {\n",
       "        vertical-align: top;\n",
       "    }\n",
       "\n",
       "    .dataframe thead th {\n",
       "        text-align: right;\n",
       "    }\n",
       "</style>\n",
       "<table border=\"1\" class=\"dataframe\">\n",
       "  <thead>\n",
       "    <tr style=\"text-align: right;\">\n",
       "      <th></th>\n",
       "      <th>Unnamed: 0</th>\n",
       "      <th>Time from Start to Finish (seconds)</th>\n",
       "      <th>Q1</th>\n",
       "      <th>Q2</th>\n",
       "      <th>Q3</th>\n",
       "      <th>Q4</th>\n",
       "      <th>Q5</th>\n",
       "      <th>Q6</th>\n",
       "      <th>Q7_Part_1</th>\n",
       "      <th>Q7_Part_2</th>\n",
       "      <th>...</th>\n",
       "      <th>Q38_B_Part_3</th>\n",
       "      <th>Q38_B_Part_4</th>\n",
       "      <th>Q38_B_Part_5</th>\n",
       "      <th>Q38_B_Part_6</th>\n",
       "      <th>Q38_B_Part_7</th>\n",
       "      <th>Q38_B_Part_8</th>\n",
       "      <th>Q38_B_Part_9</th>\n",
       "      <th>Q38_B_Part_10</th>\n",
       "      <th>Q38_B_Part_11</th>\n",
       "      <th>Q38_B_OTHER</th>\n",
       "    </tr>\n",
       "  </thead>\n",
       "  <tbody>\n",
       "    <tr>\n",
       "      <th>0</th>\n",
       "      <td>1</td>\n",
       "      <td>910</td>\n",
       "      <td>50-54</td>\n",
       "      <td>Man</td>\n",
       "      <td>India</td>\n",
       "      <td>Bachelor’s degree</td>\n",
       "      <td>Other</td>\n",
       "      <td>5-10 years</td>\n",
       "      <td>Python</td>\n",
       "      <td>R</td>\n",
       "      <td>...</td>\n",
       "      <td>NaN</td>\n",
       "      <td>NaN</td>\n",
       "      <td>NaN</td>\n",
       "      <td>NaN</td>\n",
       "      <td>NaN</td>\n",
       "      <td>NaN</td>\n",
       "      <td>NaN</td>\n",
       "      <td>NaN</td>\n",
       "      <td>NaN</td>\n",
       "      <td>NaN</td>\n",
       "    </tr>\n",
       "    <tr>\n",
       "      <th>1</th>\n",
       "      <td>2</td>\n",
       "      <td>784</td>\n",
       "      <td>50-54</td>\n",
       "      <td>Man</td>\n",
       "      <td>Indonesia</td>\n",
       "      <td>Master’s degree</td>\n",
       "      <td>Program/Project Manager</td>\n",
       "      <td>20+ years</td>\n",
       "      <td>NaN</td>\n",
       "      <td>NaN</td>\n",
       "      <td>...</td>\n",
       "      <td>NaN</td>\n",
       "      <td>NaN</td>\n",
       "      <td>NaN</td>\n",
       "      <td>NaN</td>\n",
       "      <td>NaN</td>\n",
       "      <td>NaN</td>\n",
       "      <td>NaN</td>\n",
       "      <td>NaN</td>\n",
       "      <td>None</td>\n",
       "      <td>NaN</td>\n",
       "    </tr>\n",
       "    <tr>\n",
       "      <th>2</th>\n",
       "      <td>3</td>\n",
       "      <td>924</td>\n",
       "      <td>22-24</td>\n",
       "      <td>Man</td>\n",
       "      <td>Pakistan</td>\n",
       "      <td>Master’s degree</td>\n",
       "      <td>Software Engineer</td>\n",
       "      <td>1-3 years</td>\n",
       "      <td>Python</td>\n",
       "      <td>NaN</td>\n",
       "      <td>...</td>\n",
       "      <td>NaN</td>\n",
       "      <td>NaN</td>\n",
       "      <td>TensorBoard</td>\n",
       "      <td>NaN</td>\n",
       "      <td>NaN</td>\n",
       "      <td>NaN</td>\n",
       "      <td>NaN</td>\n",
       "      <td>NaN</td>\n",
       "      <td>NaN</td>\n",
       "      <td>NaN</td>\n",
       "    </tr>\n",
       "    <tr>\n",
       "      <th>3</th>\n",
       "      <td>4</td>\n",
       "      <td>575</td>\n",
       "      <td>45-49</td>\n",
       "      <td>Man</td>\n",
       "      <td>Mexico</td>\n",
       "      <td>Doctoral degree</td>\n",
       "      <td>Research Scientist</td>\n",
       "      <td>20+ years</td>\n",
       "      <td>Python</td>\n",
       "      <td>NaN</td>\n",
       "      <td>...</td>\n",
       "      <td>NaN</td>\n",
       "      <td>NaN</td>\n",
       "      <td>NaN</td>\n",
       "      <td>NaN</td>\n",
       "      <td>NaN</td>\n",
       "      <td>NaN</td>\n",
       "      <td>NaN</td>\n",
       "      <td>NaN</td>\n",
       "      <td>None</td>\n",
       "      <td>NaN</td>\n",
       "    </tr>\n",
       "    <tr>\n",
       "      <th>4</th>\n",
       "      <td>5</td>\n",
       "      <td>781</td>\n",
       "      <td>45-49</td>\n",
       "      <td>Man</td>\n",
       "      <td>India</td>\n",
       "      <td>Doctoral degree</td>\n",
       "      <td>Other</td>\n",
       "      <td>&lt; 1 years</td>\n",
       "      <td>Python</td>\n",
       "      <td>NaN</td>\n",
       "      <td>...</td>\n",
       "      <td>NaN</td>\n",
       "      <td>NaN</td>\n",
       "      <td>NaN</td>\n",
       "      <td>NaN</td>\n",
       "      <td>NaN</td>\n",
       "      <td>NaN</td>\n",
       "      <td>NaN</td>\n",
       "      <td>NaN</td>\n",
       "      <td>NaN</td>\n",
       "      <td>NaN</td>\n",
       "    </tr>\n",
       "  </tbody>\n",
       "</table>\n",
       "<p>5 rows × 370 columns</p>\n",
       "</div>"
      ],
      "text/plain": [
       "   Unnamed: 0  Time from Start to Finish (seconds)     Q1   Q2         Q3  \\\n",
       "0           1                                  910  50-54  Man      India   \n",
       "1           2                                  784  50-54  Man  Indonesia   \n",
       "2           3                                  924  22-24  Man   Pakistan   \n",
       "3           4                                  575  45-49  Man     Mexico   \n",
       "4           5                                  781  45-49  Man      India   \n",
       "\n",
       "                  Q4                       Q5          Q6 Q7_Part_1 Q7_Part_2  \\\n",
       "0  Bachelor’s degree                    Other  5-10 years    Python         R   \n",
       "1    Master’s degree  Program/Project Manager   20+ years       NaN       NaN   \n",
       "2    Master’s degree        Software Engineer   1-3 years    Python       NaN   \n",
       "3    Doctoral degree       Research Scientist   20+ years    Python       NaN   \n",
       "4    Doctoral degree                    Other   < 1 years    Python       NaN   \n",
       "\n",
       "   ... Q38_B_Part_3 Q38_B_Part_4   Q38_B_Part_5 Q38_B_Part_6 Q38_B_Part_7  \\\n",
       "0  ...          NaN          NaN            NaN          NaN          NaN   \n",
       "1  ...          NaN          NaN            NaN          NaN          NaN   \n",
       "2  ...          NaN          NaN   TensorBoard           NaN          NaN   \n",
       "3  ...          NaN          NaN            NaN          NaN          NaN   \n",
       "4  ...          NaN          NaN            NaN          NaN          NaN   \n",
       "\n",
       "  Q38_B_Part_8 Q38_B_Part_9 Q38_B_Part_10 Q38_B_Part_11 Q38_B_OTHER  \n",
       "0          NaN          NaN           NaN           NaN         NaN  \n",
       "1          NaN          NaN           NaN          None         NaN  \n",
       "2          NaN          NaN           NaN           NaN         NaN  \n",
       "3          NaN          NaN           NaN          None         NaN  \n",
       "4          NaN          NaN           NaN           NaN         NaN  \n",
       "\n",
       "[5 rows x 370 columns]"
      ]
     },
     "execution_count": 2,
     "metadata": {},
     "output_type": "execute_result"
    }
   ],
   "source": [
    "clean = pd.read_csv('clean_kaggle_data.csv')     \n",
    "clean.head()           # show the first several rows(default=5) of the clean data"
   ]
  },
  {
   "cell_type": "code",
   "execution_count": 3,
   "id": "a7e90d30",
   "metadata": {
    "scrolled": false
   },
   "outputs": [
    {
     "data": {
      "text/html": [
       "<div>\n",
       "<style scoped>\n",
       "    .dataframe tbody tr th:only-of-type {\n",
       "        vertical-align: middle;\n",
       "    }\n",
       "\n",
       "    .dataframe tbody tr th {\n",
       "        vertical-align: top;\n",
       "    }\n",
       "\n",
       "    .dataframe thead th {\n",
       "        text-align: right;\n",
       "    }\n",
       "</style>\n",
       "<table border=\"1\" class=\"dataframe\">\n",
       "  <thead>\n",
       "    <tr style=\"text-align: right;\">\n",
       "      <th></th>\n",
       "      <th>Age</th>\n",
       "      <th>Gender</th>\n",
       "      <th>Country</th>\n",
       "      <th>Education</th>\n",
       "      <th>Job</th>\n",
       "      <th>Experience</th>\n",
       "      <th>Salary</th>\n",
       "    </tr>\n",
       "  </thead>\n",
       "  <tbody>\n",
       "    <tr>\n",
       "      <th>0</th>\n",
       "      <td>50-54</td>\n",
       "      <td>Man</td>\n",
       "      <td>India</td>\n",
       "      <td>Bachelor’s degree</td>\n",
       "      <td>Other</td>\n",
       "      <td>5-10 years</td>\n",
       "      <td>30000</td>\n",
       "    </tr>\n",
       "    <tr>\n",
       "      <th>1</th>\n",
       "      <td>50-54</td>\n",
       "      <td>Man</td>\n",
       "      <td>Indonesia</td>\n",
       "      <td>Master’s degree</td>\n",
       "      <td>Program/Project Manager</td>\n",
       "      <td>20+ years</td>\n",
       "      <td>70000</td>\n",
       "    </tr>\n",
       "    <tr>\n",
       "      <th>2</th>\n",
       "      <td>22-24</td>\n",
       "      <td>Man</td>\n",
       "      <td>Pakistan</td>\n",
       "      <td>Master’s degree</td>\n",
       "      <td>Software Engineer</td>\n",
       "      <td>1-3 years</td>\n",
       "      <td>1000</td>\n",
       "    </tr>\n",
       "    <tr>\n",
       "      <th>3</th>\n",
       "      <td>45-49</td>\n",
       "      <td>Man</td>\n",
       "      <td>Mexico</td>\n",
       "      <td>Doctoral degree</td>\n",
       "      <td>Research Scientist</td>\n",
       "      <td>20+ years</td>\n",
       "      <td>40000</td>\n",
       "    </tr>\n",
       "    <tr>\n",
       "      <th>4</th>\n",
       "      <td>45-49</td>\n",
       "      <td>Man</td>\n",
       "      <td>India</td>\n",
       "      <td>Doctoral degree</td>\n",
       "      <td>Other</td>\n",
       "      <td>&lt; 1 years</td>\n",
       "      <td>40000</td>\n",
       "    </tr>\n",
       "    <tr>\n",
       "      <th>...</th>\n",
       "      <td>...</td>\n",
       "      <td>...</td>\n",
       "      <td>...</td>\n",
       "      <td>...</td>\n",
       "      <td>...</td>\n",
       "      <td>...</td>\n",
       "      <td>...</td>\n",
       "    </tr>\n",
       "    <tr>\n",
       "      <th>15386</th>\n",
       "      <td>30-34</td>\n",
       "      <td>Man</td>\n",
       "      <td>India</td>\n",
       "      <td>Bachelor’s degree</td>\n",
       "      <td>Data Analyst</td>\n",
       "      <td>1-3 years</td>\n",
       "      <td>4000</td>\n",
       "    </tr>\n",
       "    <tr>\n",
       "      <th>15387</th>\n",
       "      <td>35-39</td>\n",
       "      <td>Man</td>\n",
       "      <td>South Korea</td>\n",
       "      <td>Bachelor’s degree</td>\n",
       "      <td>Software Engineer</td>\n",
       "      <td>5-10 years</td>\n",
       "      <td>90000</td>\n",
       "    </tr>\n",
       "    <tr>\n",
       "      <th>15388</th>\n",
       "      <td>30-34</td>\n",
       "      <td>Man</td>\n",
       "      <td>Egypt</td>\n",
       "      <td>Bachelor’s degree</td>\n",
       "      <td>Data Analyst</td>\n",
       "      <td>1-3 years</td>\n",
       "      <td>20000</td>\n",
       "    </tr>\n",
       "    <tr>\n",
       "      <th>15389</th>\n",
       "      <td>50-54</td>\n",
       "      <td>Man</td>\n",
       "      <td>Sweden</td>\n",
       "      <td>Doctoral degree</td>\n",
       "      <td>Research Scientist</td>\n",
       "      <td>I have never written code</td>\n",
       "      <td>1000</td>\n",
       "    </tr>\n",
       "    <tr>\n",
       "      <th>15390</th>\n",
       "      <td>18-21</td>\n",
       "      <td>Man</td>\n",
       "      <td>India</td>\n",
       "      <td>Bachelor’s degree</td>\n",
       "      <td>Business Analyst</td>\n",
       "      <td>I have never written code</td>\n",
       "      <td>1000</td>\n",
       "    </tr>\n",
       "  </tbody>\n",
       "</table>\n",
       "<p>15391 rows × 7 columns</p>\n",
       "</div>"
      ],
      "text/plain": [
       "         Age Gender      Country          Education                      Job  \\\n",
       "0      50-54    Man        India  Bachelor’s degree                    Other   \n",
       "1      50-54    Man    Indonesia    Master’s degree  Program/Project Manager   \n",
       "2      22-24    Man     Pakistan    Master’s degree        Software Engineer   \n",
       "3      45-49    Man       Mexico    Doctoral degree       Research Scientist   \n",
       "4      45-49    Man        India    Doctoral degree                    Other   \n",
       "...      ...    ...          ...                ...                      ...   \n",
       "15386  30-34    Man        India  Bachelor’s degree             Data Analyst   \n",
       "15387  35-39    Man  South Korea  Bachelor’s degree        Software Engineer   \n",
       "15388  30-34    Man        Egypt  Bachelor’s degree             Data Analyst   \n",
       "15389  50-54    Man       Sweden    Doctoral degree       Research Scientist   \n",
       "15390  18-21    Man        India  Bachelor’s degree         Business Analyst   \n",
       "\n",
       "                      Experience  Salary  \n",
       "0                     5-10 years   30000  \n",
       "1                      20+ years   70000  \n",
       "2                      1-3 years    1000  \n",
       "3                      20+ years   40000  \n",
       "4                      < 1 years   40000  \n",
       "...                          ...     ...  \n",
       "15386                  1-3 years    4000  \n",
       "15387                 5-10 years   90000  \n",
       "15388                  1-3 years   20000  \n",
       "15389  I have never written code    1000  \n",
       "15390  I have never written code    1000  \n",
       "\n",
       "[15391 rows x 7 columns]"
      ]
     },
     "execution_count": 3,
     "metadata": {},
     "output_type": "execute_result"
    }
   ],
   "source": [
    "# Creat a new dataframe containing Country, Age,Gender, Education, Professional Experience, and Salary as the main \n",
    "# interest features, and the column names should be changed to the feature names, instead of question numbers.\n",
    "\n",
    "imp = clean.rename(columns ={'Q1':'Age', 'Q2':'Gender', 'Q3':'Country', 'Q4':'Education', 'Q5':'Job', 'Q6':'Experience','Q25':'Salary'})\n",
    "imp = imp[['Age', 'Gender','Country','Education','Job', 'Experience', 'Salary']]\n",
    "imp"
   ]
  },
  {
   "cell_type": "markdown",
   "id": "f9a81e4b",
   "metadata": {},
   "source": [
    "#### As we wanna figure out the nature of women's representation in jobs, first we observe the number of each Job the participants are taking, by gender."
   ]
  },
  {
   "cell_type": "code",
   "execution_count": 4,
   "id": "45638e3f",
   "metadata": {},
   "outputs": [
    {
     "data": {
      "image/png": "[encoded data removed]",
      "text/plain": [
       "<Figure size 720x576 with 1 Axes>"
      ]
     },
     "metadata": {
      "needs_background": "light"
     },
     "output_type": "display_data"
    }
   ],
   "source": [
    "jobs=imp.Job.unique()   #get a series containing all the jobs\n",
    "#creat a series with job names as indexes, and the total numbers as values, for both man and women\n",
    "man_job = imp[imp.Gender=='Man'].Job.value_counts().reindex(index = jobs)        \n",
    "woman_job = imp[imp.Gender=='Woman'].Job.value_counts().reindex(index = jobs)\n",
    "\n",
    "fig = plt.figure(figsize=(10,8))\n",
    "plt.barh(jobs,man_job.values,label='man')\n",
    "plt.barh(jobs,woman_job.values,label='woman')     #get a horizontal bar plot of the numbers of jobs by gender\n",
    "plt.xlabel(\"numbers\",fontsize = 15)\n",
    "plt.title(\"the job choosing of man and woman\",fontsize = 15)\n",
    "plt.legend()\n",
    "plt.show()"
   ]
  },
  {
   "cell_type": "markdown",
   "id": "6bc33b51",
   "metadata": {},
   "source": [
    "The spread of women and men on choosing each job seemed similar, as the Data Scientists was the primary group, and Developer Relations/Advocacy took the least amount. However, the proportions of male employees on each job position was performed overwhelmingly at the same time, and only an approximate of 25% or less were taken by women in each position.\n"
   ]
  },
  {
   "cell_type": "markdown",
   "id": "15fc4c15",
   "metadata": {},
   "source": [
    "#### See how the highest education level would affect the salary by comparing their means and medians.\n",
    "\n"
   ]
  },
  {
   "cell_type": "code",
   "execution_count": 5,
   "id": "d2330c3f",
   "metadata": {},
   "outputs": [
    {
     "data": {
      "image/png": "[encoded data removed]",
      "text/plain": [
       "<Figure size 576x432 with 1 Axes>"
      ]
     },
     "metadata": {
      "needs_background": "light"
     },
     "output_type": "display_data"
    }
   ],
   "source": [
    "#check the levels of eductaion, and convert the them in an ascending order(but put no answer as the first one)\n",
    "imp.Education.unique()  \n",
    "edu_list = ['I prefer not to answer','No formal education past high school',\n",
    "                     'Some college/university study without earning a bachelor’s degree',\n",
    "                    'Bachelor’s degree','Master’s degree','Professional doctorate','Doctoral degree']\n",
    "#get the mean and median values of salary with respect to ascending education levels.\n",
    "edu_mean = imp.groupby('Education').Salary.mean().reindex(index = edu_list)    \n",
    "edu_median = imp.groupby('Education').Salary.median().reindex(index = edu_list)   \n",
    "\n",
    "#plot the trend lines of the mean and median\n",
    "fig = plt.figure(figsize=(8,6))\n",
    "plt.plot(edu_list, edu_mean, '-o',label='mean')\n",
    "plt.plot(edu_list, edu_median, '-o',label='median')\n",
    "plt.ylabel(\"salary\",fontsize = 15)\n",
    "plt.title(\"salary by education level \",fontsize = 15)\n",
    "plt.legend()\n",
    "fig.autofmt_xdate()    #change the angle of the level names in x-axis for a better view\n",
    "plt.show()"
   ]
  },
  {
   "cell_type": "markdown",
   "id": "76ebf3e3",
   "metadata": {},
   "source": [
    "The median and mean salary regarding the education levels, from lower to higher, were displayed similarly, in spite of  that the mean salary of the participants with the same eduction levels kept much higher than the median, and  the group with profession doctorate got lower median salary than the ones with Master’s degree. Apart from that, the group with Bachelor’s degree had a lower median and mean salary comparing with the group took some college/university study without earning a Bachelor’s degree."
   ]
  },
  {
   "cell_type": "markdown",
   "id": "c76c3f64",
   "metadata": {},
   "source": [
    "#### Getting to know the data better :\n",
    "\n",
    " * Observation 1. \n",
    " \n",
    " See as the experience increases, how the top choice on job would change."
   ]
  },
  {
   "cell_type": "code",
   "execution_count": 6,
   "id": "6f05ee05",
   "metadata": {},
   "outputs": [
    {
     "data": {
      "text/html": [
       "<div>\n",
       "<style scoped>\n",
       "    .dataframe tbody tr th:only-of-type {\n",
       "        vertical-align: middle;\n",
       "    }\n",
       "\n",
       "    .dataframe tbody tr th {\n",
       "        vertical-align: top;\n",
       "    }\n",
       "\n",
       "    .dataframe thead th {\n",
       "        text-align: right;\n",
       "    }\n",
       "</style>\n",
       "<table border=\"1\" class=\"dataframe\">\n",
       "  <thead>\n",
       "    <tr style=\"text-align: right;\">\n",
       "      <th></th>\n",
       "      <th>count</th>\n",
       "      <th>unique</th>\n",
       "      <th>top</th>\n",
       "      <th>freq</th>\n",
       "    </tr>\n",
       "    <tr>\n",
       "      <th>Experience</th>\n",
       "      <th></th>\n",
       "      <th></th>\n",
       "      <th></th>\n",
       "      <th></th>\n",
       "    </tr>\n",
       "  </thead>\n",
       "  <tbody>\n",
       "    <tr>\n",
       "      <th>I have never written code</th>\n",
       "      <td>961</td>\n",
       "      <td>13</td>\n",
       "      <td>Other</td>\n",
       "      <td>319</td>\n",
       "    </tr>\n",
       "    <tr>\n",
       "      <th>&lt; 1 years</th>\n",
       "      <td>2463</td>\n",
       "      <td>13</td>\n",
       "      <td>Data Analyst</td>\n",
       "      <td>517</td>\n",
       "    </tr>\n",
       "    <tr>\n",
       "      <th>1-3 years</th>\n",
       "      <td>3691</td>\n",
       "      <td>13</td>\n",
       "      <td>Data Scientist</td>\n",
       "      <td>866</td>\n",
       "    </tr>\n",
       "    <tr>\n",
       "      <th>3-5 years</th>\n",
       "      <td>2461</td>\n",
       "      <td>13</td>\n",
       "      <td>Data Scientist</td>\n",
       "      <td>623</td>\n",
       "    </tr>\n",
       "    <tr>\n",
       "      <th>5-10 years</th>\n",
       "      <td>2345</td>\n",
       "      <td>13</td>\n",
       "      <td>Data Scientist</td>\n",
       "      <td>595</td>\n",
       "    </tr>\n",
       "    <tr>\n",
       "      <th>10-20 years</th>\n",
       "      <td>1846</td>\n",
       "      <td>13</td>\n",
       "      <td>Data Scientist</td>\n",
       "      <td>401</td>\n",
       "    </tr>\n",
       "    <tr>\n",
       "      <th>20+ years</th>\n",
       "      <td>1624</td>\n",
       "      <td>13</td>\n",
       "      <td>Software Engineer</td>\n",
       "      <td>336</td>\n",
       "    </tr>\n",
       "  </tbody>\n",
       "</table>\n",
       "</div>"
      ],
      "text/plain": [
       "                          count unique                top freq\n",
       "Experience                                                    \n",
       "I have never written code   961     13              Other  319\n",
       "< 1 years                  2463     13       Data Analyst  517\n",
       "1-3 years                  3691     13     Data Scientist  866\n",
       "3-5 years                  2461     13     Data Scientist  623\n",
       "5-10 years                 2345     13     Data Scientist  595\n",
       "10-20 years                1846     13     Data Scientist  401\n",
       "20+ years                  1624     13  Software Engineer  336"
      ]
     },
     "execution_count": 6,
     "metadata": {},
     "output_type": "execute_result"
    }
   ],
   "source": [
    "exp = imp.groupby('Experience').Job.describe()  # get a df with the basic descriptions for each experience level,\n",
    "exp_list = ['I have never written code','< 1 years','1-3 years','3-5 years','5-10 years','10-20 years', '20+ years']\n",
    "exp = exp.reindex(exp_list)   # change the order of the index to (low-high)\n",
    "exp"
   ]
  },
  {
   "cell_type": "markdown",
   "id": "c76137a5",
   "metadata": {},
   "source": [
    "Observed the most popular job is DataAnalyst as its the top job(in amount) for the participants from a newbie to \n",
    "with 20-year experience."
   ]
  },
  {
   "cell_type": "markdown",
   "id": "e3cd5843",
   "metadata": {},
   "source": [
    "* Observation 2. \n",
    "\n",
    "See how the salary would change with respect to experiece"
   ]
  },
  {
   "cell_type": "code",
   "execution_count": 7,
   "id": "b34b5e84",
   "metadata": {},
   "outputs": [
    {
     "data": {
      "image/png": "[encoded data removed]",
      "text/plain": [
       "<Figure size 576x432 with 1 Axes>"
      ]
     },
     "metadata": {
      "needs_background": "light"
     },
     "output_type": "display_data"
    }
   ],
   "source": [
    "# plot the Salary v.s. Experience\n",
    "\n",
    "# get dfs with experieces as index,and mean(median) salary as values.\n",
    "exp_mean = imp.groupby('Experience').Salary.mean().reindex(index = exp_list)\n",
    "exp_median = imp.groupby('Experience').Salary.median().reindex(index = exp_list)\n",
    "\n",
    "#plot the trend lines of mean and median in one plot\n",
    "fig = plt.figure(figsize=(8,6))\n",
    "plt.plot(exp_list, exp_mean, '-o',label='mean')\n",
    "plt.plot(exp_list, exp_median, '-o',label='median')\n",
    "plt.ylabel(\"salary\",fontsize = 15)\n",
    "plt.title(\"salary by experience \",fontsize = 15)\n",
    "plt.legend()\n",
    "fig.autofmt_xdate()    #change the angle of the level names in x-axis for a better view\n",
    "plt.show()"
   ]
  },
  {
   "cell_type": "markdown",
   "id": "a2e74f23",
   "metadata": {},
   "source": [
    "The group with no experience on coding and mostly works on other jobs have slightly higher salary than the newbies. Apart from that, the salary would increase as your experience was improved by the upward trends.\n"
   ]
  },
  {
   "cell_type": "markdown",
   "id": "01c63b36",
   "metadata": {},
   "source": [
    "\n",
    "\n",
    "* Observation 3\n",
    "\n",
    "As the age and experiece are always related with each other sometimes, let's see how the salary would change \n",
    "with respect to age.\n",
    "\n"
   ]
  },
  {
   "cell_type": "code",
   "execution_count": 8,
   "id": "bfbbc0dd",
   "metadata": {},
   "outputs": [
    {
     "data": {
      "image/png": "[encoded data removed]",
      "text/plain": [
       "<Figure size 432x288 with 1 Axes>"
      ]
     },
     "metadata": {
      "needs_background": "light"
     },
     "output_type": "display_data"
    }
   ],
   "source": [
    "#first, figure the distrubution of the age of the participants.\n",
    "age_info = imp.Age.value_counts().sort_index()     # get df with age as index, total amount of each age as the value.\n",
    "plt.bar(age_info.index,age_info.values)      #get the bar chart \n",
    "plt.title('age of participants')\n",
    "plt.xlabel('age intervals')\n",
    "plt.show()"
   ]
  },
  {
   "cell_type": "markdown",
   "id": "6431e5e6",
   "metadata": {},
   "source": [
    "Notice the most of the participants are from 22-39 years old, with 25-29 as the dominant group, and the numbers \n",
    "began to decline after that.\n",
    "\n"
   ]
  },
  {
   "cell_type": "code",
   "execution_count": 9,
   "id": "825b03ef",
   "metadata": {},
   "outputs": [
    {
     "data": {
      "image/png": "[encoded data removed]",
      "text/plain": [
       "<Figure size 576x432 with 1 Axes>"
      ]
     },
     "metadata": {
      "needs_background": "light"
     },
     "output_type": "display_data"
    }
   ],
   "source": [
    "# Then, see salary for different levels of age\n",
    "\n",
    "imp.Age.unique()   #check the levels of eductaion\n",
    "Age_mean = imp.groupby('Age').Salary.mean()         \n",
    "Age_median = imp.groupby('Age').Salary.median()   #get dfs with age as index, each mean/median salary as the value\n",
    "\n",
    "#plot\n",
    "fig = plt.figure(figsize = (8,6))   \n",
    "Age_x = Age_mean.index       #set the age intervals on x_axis in advance for simplicity later\n",
    "plt.plot(Age_x, Age_mean,'-o',label='mean')\n",
    "plt.plot(Age_x, Age_median, '-o',label='median')\n",
    "plt.title(\"salary for each age level \",fontsize = 15)\n",
    "plt.ylabel(\"salary\",fontsize = 15)\n",
    "plt.legend()\n",
    "fig.autofmt_xdate()\n",
    "plt.show()"
   ]
  },
  {
   "cell_type": "markdown",
   "id": "a5f44d96",
   "metadata": {},
   "source": [
    "\n",
    "Notice the mean salary is higer than the median salary in each age interval, which means the small group with\n",
    "higher salary leads the avarage income to increase. The mean and median salary of the groups with 60-year or higher old might not follow the tendency, which meant the salary of the one around retirement age were not much predictable.\n",
    "\n"
   ]
  },
  {
   "cell_type": "markdown",
   "id": "6a7a8233",
   "metadata": {},
   "source": [
    "# Q2.a\n",
    "\n",
    "Compute decriptive statistics of salary for men and women."
   ]
  },
  {
   "cell_type": "code",
   "execution_count": 10,
   "id": "8e19db77",
   "metadata": {},
   "outputs": [
    {
     "data": {
      "text/html": [
       "<div>\n",
       "<style scoped>\n",
       "    .dataframe tbody tr th:only-of-type {\n",
       "        vertical-align: middle;\n",
       "    }\n",
       "\n",
       "    .dataframe tbody tr th {\n",
       "        vertical-align: top;\n",
       "    }\n",
       "\n",
       "    .dataframe thead th {\n",
       "        text-align: right;\n",
       "    }\n",
       "</style>\n",
       "<table border=\"1\" class=\"dataframe\">\n",
       "  <thead>\n",
       "    <tr style=\"text-align: right;\">\n",
       "      <th></th>\n",
       "      <th>count</th>\n",
       "      <th>mean</th>\n",
       "      <th>std</th>\n",
       "      <th>min</th>\n",
       "      <th>25%</th>\n",
       "      <th>50%</th>\n",
       "      <th>75%</th>\n",
       "      <th>max</th>\n",
       "    </tr>\n",
       "    <tr>\n",
       "      <th>Gender</th>\n",
       "      <th></th>\n",
       "      <th></th>\n",
       "      <th></th>\n",
       "      <th></th>\n",
       "      <th></th>\n",
       "      <th></th>\n",
       "      <th></th>\n",
       "      <th></th>\n",
       "    </tr>\n",
       "  </thead>\n",
       "  <tbody>\n",
       "    <tr>\n",
       "      <th>Man</th>\n",
       "      <td>12642.0</td>\n",
       "      <td>51193.600696</td>\n",
       "      <td>99979.274378</td>\n",
       "      <td>1000.0</td>\n",
       "      <td>2000.0</td>\n",
       "      <td>20000.0</td>\n",
       "      <td>60000.0</td>\n",
       "      <td>1000000.0</td>\n",
       "    </tr>\n",
       "    <tr>\n",
       "      <th>Woman</th>\n",
       "      <td>2482.0</td>\n",
       "      <td>34816.881547</td>\n",
       "      <td>72017.347888</td>\n",
       "      <td>1000.0</td>\n",
       "      <td>1000.0</td>\n",
       "      <td>7500.0</td>\n",
       "      <td>50000.0</td>\n",
       "      <td>1000000.0</td>\n",
       "    </tr>\n",
       "  </tbody>\n",
       "</table>\n",
       "</div>"
      ],
      "text/plain": [
       "          count          mean           std     min     25%      50%      75%  \\\n",
       "Gender                                                                          \n",
       "Man     12642.0  51193.600696  99979.274378  1000.0  2000.0  20000.0  60000.0   \n",
       "Woman    2482.0  34816.881547  72017.347888  1000.0  1000.0   7500.0  50000.0   \n",
       "\n",
       "              max  \n",
       "Gender             \n",
       "Man     1000000.0  \n",
       "Woman   1000000.0  "
      ]
     },
     "execution_count": 10,
     "metadata": {},
     "output_type": "execute_result"
    }
   ],
   "source": [
    "imp.Salary.isna().sum()     #check na ==> sum=0,no missing values of salary\n",
    "temp = imp.groupby('Gender').Salary.describe()    # get the despription of all the genders\n",
    "gender_salary = temp.loc[['Man','Woman'],:]    #extract Man and Woman\n",
    "gender_salary"
   ]
  },
  {
   "cell_type": "markdown",
   "id": "544226be",
   "metadata": {},
   "source": [
    "The table showed a clear gap between the amount of participants and the salary by men and women, except the same extreme values. "
   ]
  },
  {
   "cell_type": "markdown",
   "id": "facd1f35",
   "metadata": {},
   "source": [
    "# Q2.b \n",
    "\n",
    "Perform Two-sample t-test with a 0.05 threshold."
   ]
  },
  {
   "cell_type": "code",
   "execution_count": 11,
   "id": "a358ba90",
   "metadata": {},
   "outputs": [
    {
     "name": "stdout",
     "output_type": "stream",
     "text": [
      "t-test: t = 7.77406  p = 8.08881e-15\n"
     ]
    }
   ],
   "source": [
    "# To test the average salary of men vs. women, assume there is difference between the two groups.\n",
    "#H0 = no difference between the mean salary of men & women\n",
    "#H1 = the difference between mean salary of men & women existed\n",
    "\n",
    "man_salary=imp[imp.Gender == 'Man'].Salary            \n",
    "woman_salary = imp[imp.Gender == 'Woman'].Salary    #get men's/women's salaries in a series repectively\n",
    "\n",
    "ts, ps = stats.ttest_ind(man_salary, woman_salary)       #perform t-test\n",
    "print (\"t-test: t = %g  p = %g\" % (ts, ps))\n",
    "\n",
    "# p value<< significant level of 0.05, so we reject the null hypothesis and conclude that the difference between \n",
    "# the mean salarys of men & women did exist."
   ]
  },
  {
   "cell_type": "markdown",
   "id": "2529ebb8",
   "metadata": {},
   "source": [
    "As the p-value was 8.08881e-15 which was less than the threshold, the higher mean average salary for male employees observed before was most likely not due to change, reject the null hypothesis,and the difference was statistically significant. \n"
   ]
  },
  {
   "cell_type": "markdown",
   "id": "243f74ce",
   "metadata": {},
   "source": [
    "# Q2.c  \n",
    "\n",
    "Bootstrap data for comparing the mean of salary (Q25) for the men and women.\n",
    "\n"
   ]
  },
  {
   "cell_type": "code",
   "execution_count": 12,
   "id": "daad979a",
   "metadata": {},
   "outputs": [],
   "source": [
    "bs_woman = [] \n",
    "bs_man = []\n",
    "bs_diff = []    #get three temporary empty lists for bootstrapped mean salary of women and men, the difference\n",
    "\n",
    "np.random.seed(0)       #make result reproducible\n",
    "\n",
    "for i in range(1000):    # create a loop to bootstrap 1000 times\n",
    "    # for men and women, add the mean value of the bootstrapped salary into its list created above repspectively \n",
    "    # each time\n",
    "    \n",
    "    man_mean = np.random.choice(man_salary,len(man_salary)).mean()\n",
    "    bs_man.append(man_mean)\n",
    "    woman_mean = np.random.choice(woman_salary,len(woman_salary)).mean()\n",
    "    bs_woman.append(woman_mean)\n",
    "\n",
    "    # add the difference of the mean value to the difference list each time\n",
    "    bs_diff.append(man_mean - woman_mean)\n"
   ]
  },
  {
   "cell_type": "code",
   "execution_count": 13,
   "id": "ee2ff630",
   "metadata": {},
   "outputs": [
    {
     "data": {
      "image/png": "[encoded data removed]",
      "text/plain": [
       "<Figure size 432x288 with 1 Axes>"
      ]
     },
     "metadata": {
      "needs_background": "light"
     },
     "output_type": "display_data"
    }
   ],
   "source": [
    "# present the distributions of 1000 bootstrapped mean salaries by gender in a graph\n",
    "plt.hist(bs_man,label ='Man')\n",
    "plt.hist(bs_woman,label = 'Woman')\n",
    "plt.xlabel(\"salary\")\n",
    "plt.ylabel('count')\n",
    "plt.title('mean salary of man and woman 1000 times, Boostrap ')\n",
    "plt.legend(loc='upper center')\n",
    "plt.grid()\n",
    "plt.show()"
   ]
  },
  {
   "cell_type": "code",
   "execution_count": 14,
   "id": "0a988966",
   "metadata": {
    "scrolled": true
   },
   "outputs": [
    {
     "data": {
      "image/png": "[encoded data removed]",
      "text/plain": [
       "<Figure size 432x288 with 1 Axes>"
      ]
     },
     "metadata": {
      "needs_background": "light"
     },
     "output_type": "display_data"
    }
   ],
   "source": [
    "# present the distributions of 1000 bootstrapped differneces of mean salary by gender\n",
    "plt.hist(bs_diff)\n",
    "plt.xlabel('salary')\n",
    "plt.ylabel('count')\n",
    "plt.title('difference between the mean salary of man and woman, Bootstrap')\n",
    "plt.grid()\n",
    "plt.show()"
   ]
  },
  {
   "cell_type": "markdown",
   "id": "d9993569",
   "metadata": {},
   "source": [
    "All the 3 distribution were roughly normal, and suggested the mean pay in jobs related with coding was approximately $14,000 to $18,000 higher for men than women in most cases."
   ]
  },
  {
   "cell_type": "markdown",
   "id": "2950a7f3",
   "metadata": {},
   "source": [
    "# Q2.d\n",
    "\n",
    "Two-sample t-test with a 0.05 threshold on the bootstrapped data.\n"
   ]
  },
  {
   "cell_type": "code",
   "execution_count": 15,
   "id": "e5634bd4",
   "metadata": {},
   "outputs": [
    {
     "name": "stdout",
     "output_type": "stream",
     "text": [
      "t-test: t = 293.153  p = 0\n"
     ]
    }
   ],
   "source": [
    "boot_ts, boot_ps = stats.ttest_ind(bs_man, bs_woman)   \n",
    "print (\"t-test: t = %g  p = %g\" % (boot_ts, boot_ps))"
   ]
  },
  {
   "cell_type": "markdown",
   "id": "182e9315",
   "metadata": {},
   "source": [
    "p=0<0.05, reject the null hyupothesis, the difference was statistically significant."
   ]
  },
  {
   "cell_type": "markdown",
   "id": "e8f5edff",
   "metadata": {},
   "source": [
    "# Q2.e \n",
    "\n",
    "\n",
    "The commments were made below each step. The final conlsuion:\n",
    "we concluded that the mean salary of men tended to be higher than that of women obviously in the jobs related with coding, with a approxiamte $14,000 to $18,000 difference in most cases.\n",
    "\n",
    "\n",
    "\n",
    "\n",
    "\n"
   ]
  },
  {
   "cell_type": "markdown",
   "id": "08219ec7",
   "metadata": {},
   "source": [
    "# Q3.a\n",
    "\n",
    "Compute decriptive statistics of salary for the participants with Bachelor’s degree, Master’s degree,or Doctoral degree."
   ]
  },
  {
   "cell_type": "code",
   "execution_count": 16,
   "id": "02370b0d",
   "metadata": {},
   "outputs": [
    {
     "data": {
      "text/html": [
       "<div>\n",
       "<style scoped>\n",
       "    .dataframe tbody tr th:only-of-type {\n",
       "        vertical-align: middle;\n",
       "    }\n",
       "\n",
       "    .dataframe tbody tr th {\n",
       "        vertical-align: top;\n",
       "    }\n",
       "\n",
       "    .dataframe thead th {\n",
       "        text-align: right;\n",
       "    }\n",
       "</style>\n",
       "<table border=\"1\" class=\"dataframe\">\n",
       "  <thead>\n",
       "    <tr style=\"text-align: right;\">\n",
       "      <th></th>\n",
       "      <th>count</th>\n",
       "      <th>mean</th>\n",
       "      <th>std</th>\n",
       "      <th>min</th>\n",
       "      <th>25%</th>\n",
       "      <th>50%</th>\n",
       "      <th>75%</th>\n",
       "      <th>max</th>\n",
       "    </tr>\n",
       "    <tr>\n",
       "      <th>Education</th>\n",
       "      <th></th>\n",
       "      <th></th>\n",
       "      <th></th>\n",
       "      <th></th>\n",
       "      <th></th>\n",
       "      <th></th>\n",
       "      <th></th>\n",
       "      <th></th>\n",
       "    </tr>\n",
       "  </thead>\n",
       "  <tbody>\n",
       "    <tr>\n",
       "      <th>Bachelor’s degree</th>\n",
       "      <td>4777.0</td>\n",
       "      <td>35578.291815</td>\n",
       "      <td>89382.060777</td>\n",
       "      <td>1000.0</td>\n",
       "      <td>1000.0</td>\n",
       "      <td>7500.0</td>\n",
       "      <td>40000.0</td>\n",
       "      <td>1000000.0</td>\n",
       "    </tr>\n",
       "    <tr>\n",
       "      <th>Master’s degree</th>\n",
       "      <td>6799.0</td>\n",
       "      <td>52706.868657</td>\n",
       "      <td>90928.786678</td>\n",
       "      <td>1000.0</td>\n",
       "      <td>3000.0</td>\n",
       "      <td>25000.0</td>\n",
       "      <td>70000.0</td>\n",
       "      <td>1000000.0</td>\n",
       "    </tr>\n",
       "    <tr>\n",
       "      <th>Doctoral degree</th>\n",
       "      <td>2217.0</td>\n",
       "      <td>70641.181777</td>\n",
       "      <td>117160.947589</td>\n",
       "      <td>1000.0</td>\n",
       "      <td>4000.0</td>\n",
       "      <td>40000.0</td>\n",
       "      <td>90000.0</td>\n",
       "      <td>1000000.0</td>\n",
       "    </tr>\n",
       "  </tbody>\n",
       "</table>\n",
       "</div>"
      ],
      "text/plain": [
       "                    count          mean            std     min     25%  \\\n",
       "Education                                                                \n",
       "Bachelor’s degree  4777.0  35578.291815   89382.060777  1000.0  1000.0   \n",
       "Master’s degree    6799.0  52706.868657   90928.786678  1000.0  3000.0   \n",
       "Doctoral degree    2217.0  70641.181777  117160.947589  1000.0  4000.0   \n",
       "\n",
       "                       50%      75%        max  \n",
       "Education                                       \n",
       "Bachelor’s degree   7500.0  40000.0  1000000.0  \n",
       "Master’s degree    25000.0  70000.0  1000000.0  \n",
       "Doctoral degree    40000.0  90000.0  1000000.0  "
      ]
     },
     "execution_count": 16,
     "metadata": {},
     "output_type": "execute_result"
    }
   ],
   "source": [
    "imp.Education.isna().sum()      #check na ==> sum = 0, no missing values of salary\n",
    "temp = imp.groupby('Education').Salary.describe()   #get the desprition of salary by education\n",
    "education_salary = temp.loc[['Bachelor’s degree','Master’s degree','Doctoral degree'],:]\n",
    "education_salary     #extract the data of three levels we want"
   ]
  },
  {
   "cell_type": "markdown",
   "id": "28d94e0d",
   "metadata": {},
   "source": [
    "most employees were with Master’s degree and then Bachelors’ degree, and the salaries at the mean and all the percentiles would increase from Bachelor’s to Doctoral degree."
   ]
  },
  {
   "cell_type": "markdown",
   "id": "553a9b42",
   "metadata": {},
   "source": [
    "# Q3.b \n",
    "\n",
    "Perform ANOVA."
   ]
  },
  {
   "cell_type": "code",
   "execution_count": 17,
   "id": "cf40b7ae",
   "metadata": {},
   "outputs": [
    {
     "name": "stdout",
     "output_type": "stream",
     "text": [
      "ANOVA: F = 109.758  p = 5.1077e-48\n"
     ]
    }
   ],
   "source": [
    "from scipy.stats import f_oneway\n",
    "#Assume differences of the salary for different eductaion level exist\n",
    "# H0= No difference between the means of the salary for different eductaion level. mean1=mean2=mean3\n",
    "# H1= Differences exist. (mean i != mean) for some i in these levels of education\n",
    "\n",
    "# get three series containing the salaries for each education level\n",
    "bach_salary = imp[imp.Education=='Bachelor’s degree'].Salary\n",
    "master_salary = imp[imp.Education=='Master’s degree'].Salary\n",
    "doc_salary = imp[imp.Education=='Doctoral degree'].Salary  \n",
    "\n",
    "# perform the ANOVA of the 3 dataset\n",
    "F,p = f_oneway(bach_salary, master_salary, doc_salary)\n",
    "print (\"ANOVA: F = %g  p = %g\" % (F, p))"
   ]
  },
  {
   "cell_type": "markdown",
   "id": "024cc194",
   "metadata": {},
   "source": [
    "p<<0.05, reject the null hypothesis. The mean salary for the people with different higest levels of education \n",
    "differed, mean salary would rise with improved qualifications in education."
   ]
  },
  {
   "cell_type": "markdown",
   "id": "f4c054a5",
   "metadata": {},
   "source": [
    "# Q3.c \n",
    "\n",
    "Bootstrap data for comparing the mean of salary (Q25) for three education levels above.\n",
    "\n"
   ]
  },
  {
   "cell_type": "code",
   "execution_count": 18,
   "id": "5aedc8ea",
   "metadata": {},
   "outputs": [],
   "source": [
    "bs_bach = []\n",
    "bs_master = []\n",
    "bs_doc = []    # before bootstrap, create 3 temporary empty lists for the education levels\n",
    "\n",
    "diff_doc_master =[]\n",
    "diff_doc_bach =[]\n",
    "diff_master_bach=[]  #creat the temporary empty lists for the differences, there are 3 levels, so 3C2=3 combinations\n",
    "\n",
    "np.random.seed(1)   #make sure the result is reproducible\n",
    "for i in range(1000):     #loop for bootstrapping 1000 times\n",
    "    \n",
    "    # for the three education levels, add the mean value of the bootstrapped salary into its list created above \n",
    "    # repspectively each time\n",
    "    bach = np.random.choice(bach_salary,len(bach_salary)).mean()\n",
    "    bs_bach.append(bach)\n",
    "    \n",
    "    master = np.random.choice(master_salary,len(master_salary)).mean()\n",
    "    bs_master.append(master)\n",
    "    \n",
    "    doc = np.random.choice(doc_salary,len(doc_salary)).mean()\n",
    "    bs_doc.append(doc) \n",
    "    \n",
    "    # get the difference of the two mean value (3 combinations) and appened it to its list each time\n",
    "    diff_doc_master.append(doc - master)\n",
    "    diff_doc_bach.append(doc - bach)\n",
    "    diff_master_bach.append(master-bach)  "
   ]
  },
  {
   "cell_type": "markdown",
   "id": "805849f4",
   "metadata": {},
   "source": [
    "By taking a random sample with replacement from the data used for both men and women, with sample size as the original 12642 and 2482 respectively, the bootstrap was introduced and repeated 1000 times."
   ]
  },
  {
   "cell_type": "code",
   "execution_count": 19,
   "id": "35348038",
   "metadata": {},
   "outputs": [
    {
     "data": {
      "image/png": "[encoded data removed]",
      "text/plain": [
       "<Figure size 576x432 with 1 Axes>"
      ]
     },
     "metadata": {
      "needs_background": "light"
     },
     "output_type": "display_data"
    }
   ],
   "source": [
    "# get the three distribution of the mean salaries of the bootstrapped data by eductaion levels\n",
    "fig = plt.figure(figsize = (8,6))\n",
    "plt.hist(bs_bach,label =\"Bachelor's degree\")\n",
    "plt.hist(bs_master,label = \"Master's degree\")\n",
    "plt.hist(bs_doc,label =\"Doctoral degree\" )\n",
    "plt.xlabel(\"salary\")\n",
    "plt.ylabel('count')\n",
    "plt.title('mean salary for different highest education level, Bootstrap')\n",
    "plt.legend()\n",
    "plt.grid()\n",
    "plt.show()"
   ]
  },
  {
   "cell_type": "code",
   "execution_count": 20,
   "id": "0defc1fc",
   "metadata": {},
   "outputs": [
    {
     "data": {
      "text/plain": [
       "Text(0.5, 1.0, \"Master's & Bachelor's Degree\")"
      ]
     },
     "execution_count": 20,
     "metadata": {},
     "output_type": "execute_result"
    },
    {
     "data": {
      "image/png": "[encoded data removed]",
      "text/plain": [
       "<Figure size 576x576 with 3 Axes>"
      ]
     },
     "metadata": {
      "needs_background": "light"
     },
     "output_type": "display_data"
    }
   ],
   "source": [
    "# coompare the differences between each two mean values of the three education levels\n",
    "fig = plt.figure(constrained_layout=True,figsize=(8,8))\n",
    "fig.suptitle('difference between mean salary', size=20)   #set the title of the three subplots\n",
    "gs = fig.add_gridspec(3, hspace=0)    # Specifies 3 grid that a subplot will be placed\n",
    "\n",
    "ax1 = fig.add_subplot(gs[0, :])\n",
    "ax1.hist(diff_doc_master)  #get the first plot with the difference between the mean salary between Doctora & Master's Degree\n",
    "ax1.set_title(\"Doctora & Master's Degree\") \n",
    "\n",
    "ax2 = fig.add_subplot(gs[1, :],sharex=ax1)   #get the second distribution of the difference with the same x-axis\n",
    "ax2.hist(diff_doc_bach)\n",
    "ax2.set_title(\"Doctora & Bachelor's Degree\")\n",
    "\n",
    "ax3 = fig.add_subplot(gs[2, :],sharex=ax1)   #get the third distribution with the same x-axis\n",
    "ax3.hist(diff_master_bach)\n",
    "ax3.set_title(\"Master's & Bachelor's Degree\")\n"
   ]
  },
  {
   "cell_type": "markdown",
   "id": "00892218",
   "metadata": {},
   "source": [
    "All the distributions were roughly normal. The mean salary would be mainly $15,000  to  $20,000 higher for the group with Doctoral degree rather than Master’s degree, the difference even enlarged within $32,000 to $38,000 usually if compared with Bachelor’s degree. Besides, the mean salary would increased by $15,000 to $18,000 in most cases if  the bachelor’s degree was upgraded to a Master’s degree. "
   ]
  },
  {
   "cell_type": "markdown",
   "id": "0bd98819",
   "metadata": {},
   "source": [
    "# Q3.d \n",
    "\n",
    "Perform ANOVA of bootstrapped data."
   ]
  },
  {
   "cell_type": "code",
   "execution_count": 21,
   "id": "3e8b1f14",
   "metadata": {},
   "outputs": [
    {
     "name": "stdout",
     "output_type": "stream",
     "text": [
      "ANOVA: F = 101047  p = 0\n"
     ]
    }
   ],
   "source": [
    "F2,p2 = f_oneway(bs_bach,bs_master, bs_doc)\n",
    "print (\"ANOVA: F = %g  p = %g\" % (F2,p2))"
   ]
  },
  {
   "cell_type": "markdown",
   "id": "10991f42",
   "metadata": {},
   "source": [
    "as p=0<threshold, the differences on mean salaries were statistically significant."
   ]
  },
  {
   "cell_type": "markdown",
   "id": "8d238f03",
   "metadata": {},
   "source": [
    "# Q3.e\n"
   ]
  },
  {
   "cell_type": "markdown",
   "id": "d5504936",
   "metadata": {},
   "source": [
    "All the comments were made below each step, the final one is: mean value of the average pay would rise if the academic degree obtained was higher, if the employee had Bachelor’s degree, Master’s degree, or Doctoral degree."
   ]
  },
  {
   "cell_type": "code",
   "execution_count": null,
   "id": "05df9254",
   "metadata": {},
   "outputs": [],
   "source": []
  }
 ],
 "metadata": {
  "kernelspec": {
   "display_name": "Python 3 (ipykernel)",
   "language": "python",
   "name": "python3"
  },
  "language_info": {
   "codemirror_mode": {
    "name": "ipython",
    "version": 3
   },
   "file_extension": ".py",
   "mimetype": "text/x-python",
   "name": "python",
   "nbconvert_exporter": "python",
   "pygments_lexer": "ipython3",
   "version": "3.9.12"
  }
 },
 "nbformat": 4,
 "nbformat_minor": 5
}
